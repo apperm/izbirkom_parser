{
 "cells": [
  {
   "cell_type": "code",
   "execution_count": 1,
   "metadata": {
    "collapsed": true
   },
   "outputs": [],
   "source": [
    "import pandas as pd\n",
    "import requests\n",
    "from bs4 import BeautifulSoup"
   ]
  },
  {
   "cell_type": "code",
   "execution_count": null,
   "metadata": {
    "collapsed": true
   },
   "outputs": [],
   "source": [
    "url = \"http://www.moscow_city.vybory.izbirkom.ru/region/moscow_city\"\n",
    "response = requests.get(url)\n",
    "page = BeautifulSoup(response.content)"
   ]
  },
  {
   "cell_type": "code",
   "execution_count": null,
   "metadata": {
    "collapsed": true
   },
   "outputs": [],
   "source": [
    "votes = {}\n",
    "\n",
    "admin_data = pd.read_html(url)[7]\n",
    "admin_data.columns = ['admin','municipal']\n",
    "admin_data = df.iloc[1:,:]\n",
    "admin_data = df.fillna(method='ffill')\n",
    "admin_data['municipal'] = df['municipal'].str.replace('Выборы депутатов Совета депутатов муниципального округа ', '')\n",
    "admin_data['municipal'] = df['municipal'].str.replace(' в городе Москве', '')\n",
    "admin_data['admin'] = df['admin'].str.replace('город Москва ','')\n",
    "admin_data['admin'] = df['admin'].str.replace('административный округ','АО')\n",
    "votes['admin'] = admin_data\n",
    "\n",
    "main_links = page.find_all('a')\n",
    "for main_tag in main_links:\n",
    "    main_link = main_tag.get('href',None)\n",
    "    if 'region=77'in main_link:\n",
    "        name = main_tag.text.replace('Выборы депутатов Совета депутатов муниципального округа ', '').replace(' в городе Москве', '')\n",
    "        votes[name] = {'votes':{}}\n",
    "        region_page = BeautifulSoup(requests.get(main_link).content)\n",
    "        tik_tags = region_page.find_all('option')\n",
    "        region_tags = region_page.find_all('a')\n",
    "        for region_tag in region_tags:\n",
    "            region_link = region_tag.get('href',None)\n",
    "            if 'type=220'in region_link:\n",
    "                candidates = []\n",
    "                for i in range(1,6):\n",
    "                    candidates_link = region_link + '&number=' + str(i)\n",
    "                    try:\n",
    "                        candidates_df = pd.read_html(candidates_link, encoding='cp1251')[5].iloc[:,1:]\n",
    "                        candidates_df.columns = ['name','date', 'party', 'okrug', 'drived', 'registered', 'elected']\n",
    "                        candidates.append(candidates_df)\n",
    "                    except:\n",
    "                        pass\n",
    "                candidates = pd.concat(candidates, axis=1)\n",
    "                votes[name]['candidates'] = candidates\n",
    "        for tik_tag in tik_tags:\n",
    "            tik_link = tik_tag.get('value',None)\n",
    "            if tik_link is not None:\n",
    "                okrug = int(tik_tag.text[-1])\n",
    "                tik_page = BeautifulSoup(requests.get(tik_link).content)\n",
    "                okrug_tags = tik_page.find_all('a')\n",
    "                for okrug_tag in okrug_tags:\n",
    "                    okrug_link = okrug_tag.get('href',None)\n",
    "                    if 'type=424'in okrug_link:\n",
    "                        dd = pd.read_html(okrug_link)\n",
    "                        okrug_df = pd.concat([dd[6], dd[7]], axis=1)\n",
    "                        okrug_columns = ['parameter', 'overall'] + list(okrug_df.iloc[0,:])[3:]\n",
    "                        candidates_columns = ['name', 'overall'] + list(okrug_df.iloc[0,:])[3:]\n",
    "                        okrug_stats = okrug_df.iloc[1:13,1:]\n",
    "                        candidates_stats = okrug_df.iloc[14:,1:]\n",
    "                        okrug_stats.columns = okrug_columns\n",
    "                        candidates_stats.columns = candidates_columns\n",
    "                        okrug_stats = {'okrug_stats': okrug_stats, 'candidates_stats': candidates_stats}\n",
    "                        votes[name]['votes'][okrug] = okrug_stats"
   ]
  }
 ],
 "metadata": {
  "kernelspec": {
   "display_name": "Python 3",
   "language": "python",
   "name": "python3"
  },
  "language_info": {
   "codemirror_mode": {
    "name": "ipython",
    "version": 3
   },
   "file_extension": ".py",
   "mimetype": "text/x-python",
   "name": "python",
   "nbconvert_exporter": "python",
   "pygments_lexer": "ipython3",
   "version": "3.6.1"
  }
 },
 "nbformat": 4,
 "nbformat_minor": 2
}
